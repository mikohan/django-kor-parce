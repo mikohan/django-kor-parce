{
 "cells": [
  {
   "cell_type": "code",
   "execution_count": 10,
   "id": "ce6024a6",
   "metadata": {},
   "outputs": [],
   "source": [
    "from django.db.models.functions import TruncMonth, TruncDay\n",
    "from django.db.models import Count\n",
    "import os, requests\n",
    "from bs4 import BeautifulSoup\n",
    "from content.models import News\n",
    "from PIL import Image\n",
    "import time\n",
    "import shutil\n",
    "import wget\n",
    "from django.core.files import File\n",
    "import datetime\n",
    "import progressbar\n",
    "import asyncio\n",
    "os.environ['DJANGO_ALLOW_ASYNC_UNSAFE'] = \"true\""
   ]
  },
  {
   "cell_type": "code",
   "execution_count": 11,
   "id": "8866ae0a",
   "metadata": {},
   "outputs": [
    {
     "name": "stdout",
     "output_type": "stream",
     "text": [
      "{'day': datetime.date(2022, 2, 1), 'count': 50}\n",
      "{'day': datetime.date(2022, 2, 2), 'count': 50}\n",
      "{'day': datetime.date(2022, 2, 3), 'count': 50}\n",
      "{'day': datetime.date(2022, 2, 4), 'count': 50}\n",
      "{'day': datetime.date(2022, 2, 5), 'count': 50}\n",
      "{'day': datetime.date(2022, 2, 6), 'count': 50}\n",
      "{'day': datetime.date(2022, 2, 7), 'count': 50}\n",
      "{'day': datetime.date(2022, 2, 8), 'count': 50}\n",
      "{'day': datetime.date(2022, 2, 9), 'count': 50}\n",
      "{'day': datetime.date(2022, 2, 10), 'count': 50}\n"
     ]
    }
   ],
   "source": [
    "qs = News.objects.annotate(day=TruncDay('postDate')).values('day').annotate(count=Count('title'))\n",
    "for q in qs:\n",
    "    print(q)\n"
   ]
  }
 ],
 "metadata": {
  "kernelspec": {
   "display_name": "Django Shell-Plus",
   "language": "python",
   "name": "django_extensions"
  },
  "language_info": {
   "codemirror_mode": {
    "name": "ipython",
    "version": 3
   },
   "file_extension": ".py",
   "mimetype": "text/x-python",
   "name": "python",
   "nbconvert_exporter": "python",
   "pygments_lexer": "ipython3",
   "version": "3.8.10"
  }
 },
 "nbformat": 4,
 "nbformat_minor": 5
}
