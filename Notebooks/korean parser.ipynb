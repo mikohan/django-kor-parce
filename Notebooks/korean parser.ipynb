{
 "cells": [
  {
   "cell_type": "code",
   "execution_count": 1,
   "id": "62fd10c6",
   "metadata": {},
   "outputs": [],
   "source": [
    "import os, requests\n",
    "from bs4 import BeautifulSoup\n",
    "from content.models import News\n",
    "from PIL import Image\n",
    "import time\n",
    "import shutil\n",
    "import wget\n",
    "from django.core.files import File\n",
    "import datetime\n",
    "import progressbar\n",
    "os.environ['DJANGO_ALLOW_ASYNC_UNSAFE'] = \"true\""
   ]
  },
  {
   "cell_type": "code",
   "execution_count": 2,
   "id": "d14a18ce",
   "metadata": {},
   "outputs": [],
   "source": [
    "def date_ranges(start):\n",
    "    '''\n",
    "    returns range of dates from start to today\n",
    "    '''\n",
    "    start_date = datetime.datetime.strptime(start, '%Y%m%d').date()\n",
    "    end_date = datetime.date.today() #datetime.date(2018, 1, 4)\n",
    "    delta = datetime.timedelta(days=1)\n",
    "    dates = []\n",
    "\n",
    "    while start_date <= end_date:\n",
    "        dates.append(start_date.strftime('%Y%m%d'))\n",
    "        start_date += delta\n",
    "    return dates\n",
    "date_ranges('20220205')\n",
    "# url = \"https://pann.nate.com/talk/ranking/d?stdt=20170205&page=1\""
   ]
  },
  {
   "cell_type": "code",
   "execution_count": 3,
   "id": "a635ed44",
   "metadata": {},
   "outputs": [],
   "source": [
    "class Parser:\n",
    "    \"\"\"\n",
    "    Class for parshing pages on url\n",
    "    \"\"\"\n",
    "\n",
    "    url = \"\"\n",
    "    HEADERS = {\n",
    "        \"User-Agent\": \"Mozilla/5.0 (X11; Linux x86_64) AppleWebKit/537.36 \\\n",
    "            (KHTML, like Gecko) Chrome/44.0.2403.157 Safari/537.36\",\n",
    "        \"Accept-Language\": \"en-US, en;q=0.5\",\n",
    "    }\n",
    "\n",
    "    def __init__(self, url):\n",
    "        self.url = url\n",
    "\n",
    "    def getHtml(self):\n",
    "        r = requests.get(self.url, headers=self.HEADERS)\n",
    "        \n",
    "        return r.text\n",
    "\n",
    "    def parse(self):\n",
    "        html = self.getHtml()\n",
    "        soup = BeautifulSoup(html, \"lxml\")\n",
    "        div = soup.find(\"ul\", {\"class\": \"post_wrap\"})\n",
    "        return div\n"
   ]
  },
  {
   "cell_type": "markdown",
   "id": "5bc9d6ef",
   "metadata": {},
   "source": [
    "    newsId = models.IntegerField()\n",
    "    tmb = models.ImageField(upload_to=\"tmbs\")\n",
    "    title = models.CharField(max_length=255)\n",
    "    excerpt = models.CharField(max_length=255)\n",
    "    href = models.CharField(max_length=255)\n",
    "    count = models.CharField(max_length=255)\n",
    "    rcm = models.CharField(max_length=255)\n"
   ]
  },
  {
   "cell_type": "code",
   "execution_count": 8,
   "id": "f2b9ed80",
   "metadata": {},
   "outputs": [
    {
     "name": "stdout",
     "output_type": "stream",
     "text": [
      "download (414).jsp\n"
     ]
    },
    {
     "data": {
      "text/plain": [
       "'/home/manhee/Disk/Projects/Upwork/KoreanScraper/KorScrap/data/TST1.jpg'"
      ]
     },
     "execution_count": 8,
     "metadata": {},
     "output_type": "execute_result"
    }
   ],
   "source": [
    "u = \"https://thumb.pann.com/tc_100x100/http://fimg4.pann.com/new/download.jsp?FileID=39627719\"\n",
    "local_filename = wget.download(u, bar=None)\n",
    "print(local_filename)\n",
    "shutil.copy(local_filename, f\"/home/manhee/Disk/Projects/Upwork/KoreanScraper/KorScrap/data/TST1.jpg\")"
   ]
  },
  {
   "cell_type": "code",
   "execution_count": 14,
   "id": "6f5edf47",
   "metadata": {},
   "outputs": [
    {
     "data": {
      "text/plain": [
       "(100, {'content.News': 100})"
      ]
     },
     "execution_count": 14,
     "metadata": {},
     "output_type": "execute_result"
    }
   ],
   "source": [
    "News.objects.all().delete()"
   ]
  },
  {
   "cell_type": "code",
   "execution_count": 15,
   "id": "ea377af0",
   "metadata": {
    "scrolled": true
   },
   "outputs": [
    {
     "name": "stderr",
     "output_type": "stream",
     "text": [
      "100% (100 of 100) |######################| Elapsed Time: 0:01:42 Time:  0:01:42\n"
     ]
    }
   ],
   "source": [
    "\n",
    "\n",
    "def download(url, imgId):\n",
    "    local_filename = wget.download(url, bar=None)\n",
    "    shutil.copy(local_filename, f\"/home/manhee/Disk/Projects/Upwork/KoreanScraper/KorScrap/data/{imgId}.jpg\")\n",
    "    return f\"/home/manhee/Disk/Projects/Upwork/KoreanScraper/KorScrap/data/{imgId}.jpg\"\n",
    "\n",
    "ranges = date_ranges('20220209')\n",
    "k = 0\n",
    "with progressbar.ProgressBar(max_value=(len(ranges) - 1)*50) as bar:\n",
    "    for j, date_range in enumerate(ranges):\n",
    "        url = f\"https://pann.nate.com/talk/ranking/d?stdt={date_range}&page=1\"\n",
    "        parser = Parser(url)\n",
    "        ul = parser.parse()\n",
    "        for i, li in enumerate(ul.findAll('li')):\n",
    "            img = None\n",
    "            thumb = li.find('div', class_=\"thumb\")\n",
    "            title = li.find('dt').find('a').getText()\n",
    "\n",
    "            link = li.find('a')['href']\n",
    "            postId = link.split('/')[-1]\n",
    "            count = li.find('span', class_=\"count\").getText()\n",
    "            rcm = li.find('span', class_=\"rcm\").getText()\n",
    "            postDate = datetime.datetime.strptime(date_range, '%Y%m%d')\n",
    "            #txt\n",
    "            try:\n",
    "                txt = li.find('dd', class_=\"txt\").find('a').getText()\n",
    "            except:\n",
    "                pass\n",
    "                \n",
    "            try:\n",
    "                img = thumb.find('img')['src']\n",
    "                local_filename = download(img, postId)\n",
    "                with open(local_filename, 'rb') as ff:\n",
    "                    obj.tmb.save(f\"{postId}.jpg\", File(ff), save=True)\n",
    "            except Exception as e:\n",
    "                pass\n",
    "\n",
    "            try:\n",
    "                obj = News.objects.get(newsId=postId)\n",
    "                post.title= title\n",
    "                excerpt=txt\n",
    "                href=link\n",
    "                count=count\n",
    "                rcm=rcm\n",
    "                postDate=postDate\n",
    "            except:\n",
    "                obj = News(\n",
    "                    newsId=postId,\n",
    "                    title=title,\n",
    "                    excerpt=txt,\n",
    "                    href=link,\n",
    "                    count=count,\n",
    "                    rcm=rcm,\n",
    "                    postDate=postDate\n",
    "                )\n",
    "\n",
    "            obj.save()\n",
    "            bar.update(k)\n",
    "            k += 1\n",
    "\n"
   ]
  },
  {
   "cell_type": "code",
   "execution_count": 21,
   "id": "6cfd6d72",
   "metadata": {},
   "outputs": [
    {
     "data": {
      "text/plain": [
       "['20220205',\n",
       " '20220206',\n",
       " '20220207',\n",
       " '20220208',\n",
       " '20220209',\n",
       " '20220210',\n",
       " '20220211']"
      ]
     },
     "execution_count": 21,
     "metadata": {},
     "output_type": "execute_result"
    }
   ],
   "source": []
  },
  {
   "cell_type": "code",
   "execution_count": 18,
   "id": "72965dbb",
   "metadata": {},
   "outputs": [
    {
     "name": "stdout",
     "output_type": "stream",
     "text": [
      "2017-02-05 00:00:00\n"
     ]
    }
   ],
   "source": [
    "print(datetime.datetime.strptime('20170205', '%Y%m%d'))"
   ]
  }
 ],
 "metadata": {
  "kernelspec": {
   "display_name": "Django Shell-Plus",
   "language": "python",
   "name": "django_extensions"
  },
  "language_info": {
   "codemirror_mode": {
    "name": "ipython",
    "version": 3
   },
   "file_extension": ".py",
   "mimetype": "text/x-python",
   "name": "python",
   "nbconvert_exporter": "python",
   "pygments_lexer": "ipython3",
   "version": "3.8.10"
  }
 },
 "nbformat": 4,
 "nbformat_minor": 5
}
