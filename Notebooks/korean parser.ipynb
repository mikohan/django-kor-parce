{
 "cells": [
  {
   "cell_type": "code",
   "execution_count": 7,
   "id": "4e27cf37",
   "metadata": {},
   "outputs": [],
   "source": [
    "import os, requests\n",
    "from bs4 import BeautifulSoup\n",
    "from content.models import News\n",
    "from PIL import Image\n",
    "import time\n",
    "import shutil\n",
    "import wget\n",
    "from django.core.files import File\n",
    "import datetime\n",
    "import progressbar\n",
    "os.environ['DJANGO_ALLOW_ASYNC_UNSAFE'] = \"true\""
   ]
  },
  {
   "cell_type": "code",
   "execution_count": 9,
   "id": "fe0760b3",
   "metadata": {},
   "outputs": [
    {
     "name": "stdout",
     "output_type": "stream",
     "text": [
      "유나 몸매 무슨일이야\n"
     ]
    }
   ],
   "source": [
    "n = News.objects.get(newsId=364955795)\n",
    "print(n)"
   ]
  },
  {
   "cell_type": "code",
   "execution_count": 2,
   "id": "d28d4969",
   "metadata": {},
   "outputs": [
    {
     "data": {
      "text/plain": [
       "['20220205',\n",
       " '20220206',\n",
       " '20220207',\n",
       " '20220208',\n",
       " '20220209',\n",
       " '20220210',\n",
       " '20220211']"
      ]
     },
     "execution_count": 2,
     "metadata": {},
     "output_type": "execute_result"
    }
   ],
   "source": [
    "def date_ranges(start):\n",
    "    '''\n",
    "    returns range of dates from start to today\n",
    "    '''\n",
    "    start_date = datetime.datetime.strptime(start, '%Y%m%d').date()\n",
    "    end_date = datetime.date.today() #datetime.date(2018, 1, 4)\n",
    "    delta = datetime.timedelta(days=1)\n",
    "    dates = []\n",
    "\n",
    "    while start_date <= end_date:\n",
    "        dates.append(start_date.strftime('%Y%m%d'))\n",
    "        start_date += delta\n",
    "    return dates\n",
    "date_ranges('20220205')\n",
    "# url = \"https://pann.nate.com/talk/ranking/d?stdt=20170205&page=1\""
   ]
  },
  {
   "cell_type": "code",
   "execution_count": 3,
   "id": "38a03bde",
   "metadata": {},
   "outputs": [],
   "source": [
    "class Parser:\n",
    "    \"\"\"\n",
    "    Class for parshing pages on url\n",
    "    \"\"\"\n",
    "\n",
    "    url = \"\"\n",
    "    HEADERS = {\n",
    "        \"User-Agent\": \"Mozilla/5.0 (X11; Linux x86_64) AppleWebKit/537.36 \\\n",
    "            (KHTML, like Gecko) Chrome/44.0.2403.157 Safari/537.36\",\n",
    "        \"Accept-Language\": \"en-US, en;q=0.5\",\n",
    "    }\n",
    "\n",
    "    def __init__(self, url):\n",
    "        self.url = url\n",
    "\n",
    "    def getHtml(self):\n",
    "        r = requests.get(self.url, headers=self.HEADERS)\n",
    "        \n",
    "        return r.text\n",
    "\n",
    "    def parse(self):\n",
    "        html = self.getHtml()\n",
    "        soup = BeautifulSoup(html, \"lxml\")\n",
    "        div = soup.find(\"ul\", {\"class\": \"post_wrap\"})\n",
    "        return div\n",
    "    \n"
   ]
  },
  {
   "cell_type": "markdown",
   "id": "970b54d7",
   "metadata": {},
   "source": [
    "    newsId = models.IntegerField()\n",
    "    tmb = models.ImageField(upload_to=\"tmbs\")\n",
    "    title = models.CharField(max_length=255)\n",
    "    excerpt = models.CharField(max_length=255)\n",
    "    href = models.CharField(max_length=255)\n",
    "    count = models.CharField(max_length=255)\n",
    "    rcm = models.CharField(max_length=255)\n"
   ]
  },
  {
   "cell_type": "code",
   "execution_count": 8,
   "id": "d5e56b77",
   "metadata": {},
   "outputs": [
    {
     "name": "stdout",
     "output_type": "stream",
     "text": [
      "download (414).jsp\n"
     ]
    },
    {
     "data": {
      "text/plain": [
       "'/home/manhee/Disk/Projects/Upwork/KoreanScraper/KorScrap/data/TST1.jpg'"
      ]
     },
     "execution_count": 8,
     "metadata": {},
     "output_type": "execute_result"
    }
   ],
   "source": [
    "u = \"https://thumb.pann.com/tc_100x100/http://fimg4.pann.com/new/download.jsp?FileID=39627719\"\n",
    "local_filename = wget.download(u, bar=None)\n",
    "print(local_filename)\n",
    "shutil.copy(local_filename, f\"/home/manhee/Disk/Projects/Upwork/KoreanScraper/KorScrap/data/TST1.jpg\")"
   ]
  },
  {
   "cell_type": "code",
   "execution_count": 26,
   "id": "fa55ad9a",
   "metadata": {},
   "outputs": [
    {
     "data": {
      "text/plain": [
       "(100, {'content.News': 100})"
      ]
     },
     "execution_count": 26,
     "metadata": {},
     "output_type": "execute_result"
    }
   ],
   "source": [
    "News.objects.all().delete()"
   ]
  },
  {
   "cell_type": "code",
   "execution_count": 4,
   "id": "5d068899",
   "metadata": {},
   "outputs": [
    {
     "data": {
      "text/plain": [
       "<div class=\"posting\">\n",
       "<table>\n",
       "<tbody>\n",
       "<tr>\n",
       "<td>\n",
       "<div id=\"contentArea\">\n",
       "<br/>\n",
       "나는 테런, 오디션 이렇게 엄청 즐겨 했었음<br/>\n",
       "요즘 계속 보이길래 추억 돋아서 깔아봤는데<br/>\n",
       "친구들이랑 스페이스바 열심히 눌러대던거 생각남 ㅠㅠㅠ<br/>\n",
       "<br/>\n",
       "<br/>\n",
       "<p class=\"mweb_img\"><a href=\"https://fimg5.pann.com/new/download.jsp?FileID=63087768\" target=\"_blank\"><img id=\"\" name=\"image\" src=\"https://fimg5.pann.com/new/download.jsp?FileID=63087768\" style=\"border: none;\" swaf:cywrite:file_seq=\"\" swaf:cywrite:info=\"image|036a1ed4-3fdd-4ebe-908e-1a0496a863d4.jpeg|http://fimg5.pann.com/new/download.jsp?FileID=63087768|3481260|62415445\" swaf:cywrite:object_id=\"63087768\"/></a></p><br/>\n",
       "<br/>\n",
       "진짜 추억 돋는다 어쩜 좋아<br/>\n",
       "나는 아이디 잃어버려서 뉴비부터 다시 도전…<br/>\n",
       "기본, 프리스타일 튜토리얼 모두 깨고<br/>\n",
       "뉴비서버로 들어갔는데 평일이라 그런지 화력이 아쉽ㅠ<br/>\n",
       "<br/>\n",
       "친구들 모아서 한판했는데<br/>\n",
       "이달소 노래도 있고 나름 업글 많이 됐더라<br/>\n",
       "<br/>\n",
       "테런은 아직도 화력 좀 있던데<br/>\n",
       "오디션도 다시 핫해졌음 좋겠어ㅠㅠ<br/>\n",
       "다들 오디션 같이 하자<br/>\n",
       "방 수가 적어서 넘 아쉬워ㅠㅠㅠㅠ\t\t\t\t\t\t\t\t\t</div>\n",
       "</td>\n",
       "</tr>\n",
       "</tbody>\n",
       "</table>\n",
       "</div>"
      ]
     },
     "execution_count": 4,
     "metadata": {},
     "output_type": "execute_result"
    }
   ],
   "source": [
    "def get_html(url):\n",
    "    \n",
    "    parser = Parser(url)\n",
    "    html = parser.getHtml()\n",
    "    soup = BeautifulSoup(html, \"lxml\")\n",
    "    div = soup.find(\"div\", class_=\"posting\")\n",
    "    return div\n",
    "url = \"https://pann.nate.com/talk/364984183\"\n",
    "get_html(url)    \n",
    "    "
   ]
  },
  {
   "cell_type": "code",
   "execution_count": 15,
   "id": "9cb68cf4",
   "metadata": {
    "scrolled": true
   },
   "outputs": [
    {
     "name": "stderr",
     "output_type": "stream",
     "text": [
      "\n"
     ]
    },
    {
     "ename": "TypeError",
     "evalue": "'NoneType' object is not callable",
     "output_type": "error",
     "traceback": [
      "\u001b[0;31m---------------------------------------------------------------------------\u001b[0m",
      "\u001b[0;31mDoesNotExist\u001b[0m                              Traceback (most recent call last)",
      "Input \u001b[0;32mIn [15]\u001b[0m, in \u001b[0;36m<module>\u001b[0;34m\u001b[0m\n\u001b[1;32m     40\u001b[0m \u001b[38;5;28;01mtry\u001b[39;00m:            \n\u001b[0;32m---> 41\u001b[0m     obj \u001b[38;5;241m=\u001b[39m \u001b[43mNews\u001b[49m\u001b[38;5;241;43m.\u001b[39;49m\u001b[43mobjects\u001b[49m\u001b[38;5;241;43m.\u001b[39;49m\u001b[43mget\u001b[49m\u001b[43m(\u001b[49m\u001b[43mnewsId\u001b[49m\u001b[38;5;241;43m=\u001b[39;49m\u001b[43mpostId\u001b[49m\u001b[43m)\u001b[49m\n\u001b[1;32m     43\u001b[0m     obj\u001b[38;5;241m.\u001b[39mtitle\u001b[38;5;241m=\u001b[39m title\n",
      "File \u001b[0;32m~/Disk/Projects/Upwork/KoreanScraper/venv/lib/python3.8/site-packages/django/db/models/manager.py:85\u001b[0m, in \u001b[0;36mBaseManager._get_queryset_methods.<locals>.create_method.<locals>.manager_method\u001b[0;34m(self, *args, **kwargs)\u001b[0m\n\u001b[1;32m     84\u001b[0m \u001b[38;5;28;01mdef\u001b[39;00m \u001b[38;5;21mmanager_method\u001b[39m(\u001b[38;5;28mself\u001b[39m, \u001b[38;5;241m*\u001b[39margs, \u001b[38;5;241m*\u001b[39m\u001b[38;5;241m*\u001b[39mkwargs):\n\u001b[0;32m---> 85\u001b[0m     \u001b[38;5;28;01mreturn\u001b[39;00m \u001b[38;5;28;43mgetattr\u001b[39;49m\u001b[43m(\u001b[49m\u001b[38;5;28;43mself\u001b[39;49m\u001b[38;5;241;43m.\u001b[39;49m\u001b[43mget_queryset\u001b[49m\u001b[43m(\u001b[49m\u001b[43m)\u001b[49m\u001b[43m,\u001b[49m\u001b[43m \u001b[49m\u001b[43mname\u001b[49m\u001b[43m)\u001b[49m\u001b[43m(\u001b[49m\u001b[38;5;241;43m*\u001b[39;49m\u001b[43margs\u001b[49m\u001b[43m,\u001b[49m\u001b[43m \u001b[49m\u001b[38;5;241;43m*\u001b[39;49m\u001b[38;5;241;43m*\u001b[39;49m\u001b[43mkwargs\u001b[49m\u001b[43m)\u001b[49m\n",
      "File \u001b[0;32m~/Disk/Projects/Upwork/KoreanScraper/venv/lib/python3.8/site-packages/django/db/models/query.py:439\u001b[0m, in \u001b[0;36mQuerySet.get\u001b[0;34m(self, *args, **kwargs)\u001b[0m\n\u001b[1;32m    438\u001b[0m \u001b[38;5;28;01mif\u001b[39;00m \u001b[38;5;129;01mnot\u001b[39;00m num:\n\u001b[0;32m--> 439\u001b[0m     \u001b[38;5;28;01mraise\u001b[39;00m \u001b[38;5;28mself\u001b[39m\u001b[38;5;241m.\u001b[39mmodel\u001b[38;5;241m.\u001b[39mDoesNotExist(\n\u001b[1;32m    440\u001b[0m         \u001b[38;5;124m\"\u001b[39m\u001b[38;5;132;01m%s\u001b[39;00m\u001b[38;5;124m matching query does not exist.\u001b[39m\u001b[38;5;124m\"\u001b[39m \u001b[38;5;241m%\u001b[39m\n\u001b[1;32m    441\u001b[0m         \u001b[38;5;28mself\u001b[39m\u001b[38;5;241m.\u001b[39mmodel\u001b[38;5;241m.\u001b[39m_meta\u001b[38;5;241m.\u001b[39mobject_name\n\u001b[1;32m    442\u001b[0m     )\n\u001b[1;32m    443\u001b[0m \u001b[38;5;28;01mraise\u001b[39;00m \u001b[38;5;28mself\u001b[39m\u001b[38;5;241m.\u001b[39mmodel\u001b[38;5;241m.\u001b[39mMultipleObjectsReturned(\n\u001b[1;32m    444\u001b[0m     \u001b[38;5;124m'\u001b[39m\u001b[38;5;124mget() returned more than one \u001b[39m\u001b[38;5;132;01m%s\u001b[39;00m\u001b[38;5;124m -- it returned \u001b[39m\u001b[38;5;132;01m%s\u001b[39;00m\u001b[38;5;124m!\u001b[39m\u001b[38;5;124m'\u001b[39m \u001b[38;5;241m%\u001b[39m (\n\u001b[1;32m    445\u001b[0m         \u001b[38;5;28mself\u001b[39m\u001b[38;5;241m.\u001b[39mmodel\u001b[38;5;241m.\u001b[39m_meta\u001b[38;5;241m.\u001b[39mobject_name,\n\u001b[1;32m    446\u001b[0m         num \u001b[38;5;28;01mif\u001b[39;00m \u001b[38;5;129;01mnot\u001b[39;00m limit \u001b[38;5;129;01mor\u001b[39;00m num \u001b[38;5;241m<\u001b[39m limit \u001b[38;5;28;01melse\u001b[39;00m \u001b[38;5;124m'\u001b[39m\u001b[38;5;124mmore than \u001b[39m\u001b[38;5;132;01m%s\u001b[39;00m\u001b[38;5;124m'\u001b[39m \u001b[38;5;241m%\u001b[39m (limit \u001b[38;5;241m-\u001b[39m \u001b[38;5;241m1\u001b[39m),\n\u001b[1;32m    447\u001b[0m     )\n\u001b[1;32m    448\u001b[0m )\n",
      "\u001b[0;31mDoesNotExist\u001b[0m: News matching query does not exist.",
      "\nDuring handling of the above exception, another exception occurred:\n",
      "\u001b[0;31mTypeError\u001b[0m                                 Traceback (most recent call last)",
      "Input \u001b[0;32mIn [15]\u001b[0m, in \u001b[0;36m<module>\u001b[0;34m\u001b[0m\n\u001b[1;32m     52\u001b[0m \u001b[38;5;28;01mexcept\u001b[39;00m News\u001b[38;5;241m.\u001b[39mDoesNotExist:\n\u001b[1;32m     53\u001b[0m     obj \u001b[38;5;241m=\u001b[39m News(\n\u001b[1;32m     54\u001b[0m         newsId\u001b[38;5;241m=\u001b[39mpostId,\n\u001b[1;32m     55\u001b[0m         title\u001b[38;5;241m=\u001b[39mtitle,\n\u001b[0;32m   (...)\u001b[0m\n\u001b[1;32m     61\u001b[0m         html\u001b[38;5;241m=\u001b[39mhtml\n\u001b[1;32m     62\u001b[0m     )\n\u001b[0;32m---> 63\u001b[0m     \u001b[43mobj\u001b[49m\u001b[38;5;241;43m.\u001b[39;49m\u001b[43msave\u001b[49m\u001b[43m(\u001b[49m\u001b[43m)\u001b[49m\n\u001b[1;32m     66\u001b[0m bar\u001b[38;5;241m.\u001b[39mupdate(k)\n\u001b[1;32m     67\u001b[0m k \u001b[38;5;241m+\u001b[39m\u001b[38;5;241m=\u001b[39m \u001b[38;5;241m1\u001b[39m\n",
      "File \u001b[0;32m~/Disk/Projects/Upwork/KoreanScraper/venv/lib/python3.8/site-packages/django/db/models/base.py:743\u001b[0m, in \u001b[0;36mModel.save\u001b[0;34m(self, force_insert, force_update, using, update_fields)\u001b[0m\n\u001b[1;32m    740\u001b[0m     \u001b[38;5;28;01mif\u001b[39;00m loaded_fields:\n\u001b[1;32m    741\u001b[0m         update_fields \u001b[38;5;241m=\u001b[39m \u001b[38;5;28mfrozenset\u001b[39m(loaded_fields)\n\u001b[0;32m--> 743\u001b[0m \u001b[38;5;28;43mself\u001b[39;49m\u001b[38;5;241;43m.\u001b[39;49m\u001b[43msave_base\u001b[49m\u001b[43m(\u001b[49m\u001b[43musing\u001b[49m\u001b[38;5;241;43m=\u001b[39;49m\u001b[43musing\u001b[49m\u001b[43m,\u001b[49m\u001b[43m \u001b[49m\u001b[43mforce_insert\u001b[49m\u001b[38;5;241;43m=\u001b[39;49m\u001b[43mforce_insert\u001b[49m\u001b[43m,\u001b[49m\n\u001b[1;32m    744\u001b[0m \u001b[43m               \u001b[49m\u001b[43mforce_update\u001b[49m\u001b[38;5;241;43m=\u001b[39;49m\u001b[43mforce_update\u001b[49m\u001b[43m,\u001b[49m\u001b[43m \u001b[49m\u001b[43mupdate_fields\u001b[49m\u001b[38;5;241;43m=\u001b[39;49m\u001b[43mupdate_fields\u001b[49m\u001b[43m)\u001b[49m\n",
      "File \u001b[0;32m~/Disk/Projects/Upwork/KoreanScraper/venv/lib/python3.8/site-packages/django/db/models/base.py:780\u001b[0m, in \u001b[0;36mModel.save_base\u001b[0;34m(self, raw, force_insert, force_update, using, update_fields)\u001b[0m\n\u001b[1;32m    778\u001b[0m     \u001b[38;5;28;01mif\u001b[39;00m \u001b[38;5;129;01mnot\u001b[39;00m raw:\n\u001b[1;32m    779\u001b[0m         parent_inserted \u001b[38;5;241m=\u001b[39m \u001b[38;5;28mself\u001b[39m\u001b[38;5;241m.\u001b[39m_save_parents(\u001b[38;5;28mcls\u001b[39m, using, update_fields)\n\u001b[0;32m--> 780\u001b[0m     updated \u001b[38;5;241m=\u001b[39m \u001b[38;5;28;43mself\u001b[39;49m\u001b[38;5;241;43m.\u001b[39;49m\u001b[43m_save_table\u001b[49m\u001b[43m(\u001b[49m\n\u001b[1;32m    781\u001b[0m \u001b[43m        \u001b[49m\u001b[43mraw\u001b[49m\u001b[43m,\u001b[49m\u001b[43m \u001b[49m\u001b[38;5;28;43mcls\u001b[39;49m\u001b[43m,\u001b[49m\u001b[43m \u001b[49m\u001b[43mforce_insert\u001b[49m\u001b[43m \u001b[49m\u001b[38;5;129;43;01mor\u001b[39;49;00m\u001b[43m \u001b[49m\u001b[43mparent_inserted\u001b[49m\u001b[43m,\u001b[49m\n\u001b[1;32m    782\u001b[0m \u001b[43m        \u001b[49m\u001b[43mforce_update\u001b[49m\u001b[43m,\u001b[49m\u001b[43m \u001b[49m\u001b[43musing\u001b[49m\u001b[43m,\u001b[49m\u001b[43m \u001b[49m\u001b[43mupdate_fields\u001b[49m\u001b[43m,\u001b[49m\n\u001b[1;32m    783\u001b[0m \u001b[43m    \u001b[49m\u001b[43m)\u001b[49m\n\u001b[1;32m    784\u001b[0m \u001b[38;5;66;03m# Store the database on which the object was saved\u001b[39;00m\n\u001b[1;32m    785\u001b[0m \u001b[38;5;28mself\u001b[39m\u001b[38;5;241m.\u001b[39m_state\u001b[38;5;241m.\u001b[39mdb \u001b[38;5;241m=\u001b[39m using\n",
      "File \u001b[0;32m~/Disk/Projects/Upwork/KoreanScraper/venv/lib/python3.8/site-packages/django/db/models/base.py:862\u001b[0m, in \u001b[0;36mModel._save_table\u001b[0;34m(self, raw, cls, force_insert, force_update, using, update_fields)\u001b[0m\n\u001b[1;32m    859\u001b[0m values \u001b[38;5;241m=\u001b[39m [(f, \u001b[38;5;28;01mNone\u001b[39;00m, (\u001b[38;5;28mgetattr\u001b[39m(\u001b[38;5;28mself\u001b[39m, f\u001b[38;5;241m.\u001b[39mattname) \u001b[38;5;28;01mif\u001b[39;00m raw \u001b[38;5;28;01melse\u001b[39;00m f\u001b[38;5;241m.\u001b[39mpre_save(\u001b[38;5;28mself\u001b[39m, \u001b[38;5;28;01mFalse\u001b[39;00m)))\n\u001b[1;32m    860\u001b[0m           \u001b[38;5;28;01mfor\u001b[39;00m f \u001b[38;5;129;01min\u001b[39;00m non_pks]\n\u001b[1;32m    861\u001b[0m forced_update \u001b[38;5;241m=\u001b[39m update_fields \u001b[38;5;129;01mor\u001b[39;00m force_update\n\u001b[0;32m--> 862\u001b[0m updated \u001b[38;5;241m=\u001b[39m \u001b[38;5;28;43mself\u001b[39;49m\u001b[38;5;241;43m.\u001b[39;49m\u001b[43m_do_update\u001b[49m\u001b[43m(\u001b[49m\u001b[43mbase_qs\u001b[49m\u001b[43m,\u001b[49m\u001b[43m \u001b[49m\u001b[43musing\u001b[49m\u001b[43m,\u001b[49m\u001b[43m \u001b[49m\u001b[43mpk_val\u001b[49m\u001b[43m,\u001b[49m\u001b[43m \u001b[49m\u001b[43mvalues\u001b[49m\u001b[43m,\u001b[49m\u001b[43m \u001b[49m\u001b[43mupdate_fields\u001b[49m\u001b[43m,\u001b[49m\n\u001b[1;32m    863\u001b[0m \u001b[43m                          \u001b[49m\u001b[43mforced_update\u001b[49m\u001b[43m)\u001b[49m\n\u001b[1;32m    864\u001b[0m \u001b[38;5;28;01mif\u001b[39;00m force_update \u001b[38;5;129;01mand\u001b[39;00m \u001b[38;5;129;01mnot\u001b[39;00m updated:\n\u001b[1;32m    865\u001b[0m     \u001b[38;5;28;01mraise\u001b[39;00m DatabaseError(\u001b[38;5;124m\"\u001b[39m\u001b[38;5;124mForced update did not affect any rows.\u001b[39m\u001b[38;5;124m\"\u001b[39m)\n",
      "File \u001b[0;32m~/Disk/Projects/Upwork/KoreanScraper/venv/lib/python3.8/site-packages/django/db/models/base.py:916\u001b[0m, in \u001b[0;36mModel._do_update\u001b[0;34m(self, base_qs, using, pk_val, values, update_fields, forced_update)\u001b[0m\n\u001b[1;32m    904\u001b[0m \u001b[38;5;28;01mif\u001b[39;00m \u001b[38;5;28mself\u001b[39m\u001b[38;5;241m.\u001b[39m_meta\u001b[38;5;241m.\u001b[39mselect_on_save \u001b[38;5;129;01mand\u001b[39;00m \u001b[38;5;129;01mnot\u001b[39;00m forced_update:\n\u001b[1;32m    905\u001b[0m     \u001b[38;5;28;01mreturn\u001b[39;00m (\n\u001b[1;32m    906\u001b[0m         filtered\u001b[38;5;241m.\u001b[39mexists() \u001b[38;5;129;01mand\u001b[39;00m\n\u001b[1;32m    907\u001b[0m         \u001b[38;5;66;03m# It may happen that the object is deleted from the DB right after\u001b[39;00m\n\u001b[0;32m   (...)\u001b[0m\n\u001b[1;32m    914\u001b[0m         (filtered\u001b[38;5;241m.\u001b[39m_update(values) \u001b[38;5;241m>\u001b[39m \u001b[38;5;241m0\u001b[39m \u001b[38;5;129;01mor\u001b[39;00m filtered\u001b[38;5;241m.\u001b[39mexists())\n\u001b[1;32m    915\u001b[0m     )\n\u001b[0;32m--> 916\u001b[0m \u001b[38;5;28;01mreturn\u001b[39;00m \u001b[43mfiltered\u001b[49m\u001b[38;5;241;43m.\u001b[39;49m\u001b[43m_update\u001b[49m\u001b[43m(\u001b[49m\u001b[43mvalues\u001b[49m\u001b[43m)\u001b[49m \u001b[38;5;241m>\u001b[39m \u001b[38;5;241m0\u001b[39m\n",
      "File \u001b[0;32m~/Disk/Projects/Upwork/KoreanScraper/venv/lib/python3.8/site-packages/django/db/models/query.py:805\u001b[0m, in \u001b[0;36mQuerySet._update\u001b[0;34m(self, values)\u001b[0m\n\u001b[1;32m    803\u001b[0m     \u001b[38;5;28;01mraise\u001b[39;00m \u001b[38;5;167;01mTypeError\u001b[39;00m(\u001b[38;5;124m'\u001b[39m\u001b[38;5;124mCannot update a query once a slice has been taken.\u001b[39m\u001b[38;5;124m'\u001b[39m)\n\u001b[1;32m    804\u001b[0m query \u001b[38;5;241m=\u001b[39m \u001b[38;5;28mself\u001b[39m\u001b[38;5;241m.\u001b[39mquery\u001b[38;5;241m.\u001b[39mchain(sql\u001b[38;5;241m.\u001b[39mUpdateQuery)\n\u001b[0;32m--> 805\u001b[0m \u001b[43mquery\u001b[49m\u001b[38;5;241;43m.\u001b[39;49m\u001b[43madd_update_fields\u001b[49m\u001b[43m(\u001b[49m\u001b[43mvalues\u001b[49m\u001b[43m)\u001b[49m\n\u001b[1;32m    806\u001b[0m \u001b[38;5;66;03m# Clear any annotations so that they won't be present in subqueries.\u001b[39;00m\n\u001b[1;32m    807\u001b[0m query\u001b[38;5;241m.\u001b[39mannotations \u001b[38;5;241m=\u001b[39m {}\n",
      "File \u001b[0;32m~/Disk/Projects/Upwork/KoreanScraper/venv/lib/python3.8/site-packages/django/db/models/sql/subqueries.py:109\u001b[0m, in \u001b[0;36mUpdateQuery.add_update_fields\u001b[0;34m(self, values_seq)\u001b[0m\n\u001b[1;32m    106\u001b[0m \u001b[38;5;28;01mfor\u001b[39;00m field, model, val \u001b[38;5;129;01min\u001b[39;00m values_seq:\n\u001b[1;32m    107\u001b[0m     \u001b[38;5;28;01mif\u001b[39;00m \u001b[38;5;28mhasattr\u001b[39m(val, \u001b[38;5;124m'\u001b[39m\u001b[38;5;124mresolve_expression\u001b[39m\u001b[38;5;124m'\u001b[39m):\n\u001b[1;32m    108\u001b[0m         \u001b[38;5;66;03m# Resolve expressions here so that annotations are no longer needed\u001b[39;00m\n\u001b[0;32m--> 109\u001b[0m         val \u001b[38;5;241m=\u001b[39m \u001b[43mval\u001b[49m\u001b[38;5;241;43m.\u001b[39;49m\u001b[43mresolve_expression\u001b[49m\u001b[43m(\u001b[49m\u001b[38;5;28;43mself\u001b[39;49m\u001b[43m,\u001b[49m\u001b[43m \u001b[49m\u001b[43mallow_joins\u001b[49m\u001b[38;5;241;43m=\u001b[39;49m\u001b[38;5;28;43;01mFalse\u001b[39;49;00m\u001b[43m,\u001b[49m\u001b[43m \u001b[49m\u001b[43mfor_save\u001b[49m\u001b[38;5;241;43m=\u001b[39;49m\u001b[38;5;28;43;01mTrue\u001b[39;49;00m\u001b[43m)\u001b[49m\n\u001b[1;32m    110\u001b[0m     \u001b[38;5;28mself\u001b[39m\u001b[38;5;241m.\u001b[39mvalues\u001b[38;5;241m.\u001b[39mappend((field, model, val))\n",
      "\u001b[0;31mTypeError\u001b[0m: 'NoneType' object is not callable"
     ]
    }
   ],
   "source": [
    "# Parser for the blocks\n",
    "\n",
    "def download(url, imgId):\n",
    "    local_filename = wget.download(url, bar=None)\n",
    "    shutil.copy(local_filename, f\"/home/manhee/Disk/Projects/Upwork/KoreanScraper/KorScrap/data/{imgId}.jpg\")\n",
    "    return f\"/home/manhee/Disk/Projects/Upwork/KoreanScraper/KorScrap/data/{imgId}.jpg\"\n",
    "\n",
    "ranges = date_ranges('20220209')\n",
    "k = 0\n",
    "with progressbar.ProgressBar(max_value=(len(ranges) - 1)*50) as bar:\n",
    "    for j, date_range in enumerate(ranges):\n",
    "        url = f\"https://pann.nate.com/talk/ranking/d?stdt={date_range}&page=1\"\n",
    "        parser = Parser(url)\n",
    "        ul = parser.parse()\n",
    "        for i, li in enumerate(ul.findAll('li')):\n",
    "            img = None\n",
    "            thumb = li.find('div', class_=\"thumb\")\n",
    "            title = li.find('dt').find('a').getText()\n",
    "\n",
    "            link = li.find('a')['href']\n",
    "            postId = link.split('/')[-1]\n",
    "            count = li.find('span', class_=\"count\").getText()\n",
    "            rcm = li.find('span', class_=\"rcm\").getText()\n",
    "            postDate = datetime.datetime.strptime(date_range, '%Y%m%d')\n",
    "            #txt\n",
    "            try:\n",
    "                txt = li.find('dd', class_=\"txt\").find('a').getText()\n",
    "            except:\n",
    "                pass\n",
    "                \n",
    "            try:\n",
    "                img = thumb.find('img')['src']\n",
    "                local_filename = download(img, postId)\n",
    "                with open(local_filename, 'rb') as ff:\n",
    "                    obj.tmb.save(f\"{postId}.jpg\", File(ff), save=True)\n",
    "            except Exception as e:\n",
    "                pass\n",
    "            html = get_html(f\"https://pann.nate.com/talk/{postId}\")\n",
    "            \n",
    "            try:            \n",
    "                obj = News.objects.get(newsId=postId)\n",
    "                \n",
    "                obj.title= title\n",
    "                obj.excerpt=txt\n",
    "                obj.href=link\n",
    "                obj.count=count\n",
    "                obj.rcm=rcm\n",
    "                obj.postDate=postDate\n",
    "                obj.html=html\n",
    "                obj.save()\n",
    "                \n",
    "            except News.DoesNotExist:\n",
    "                obj = News(\n",
    "                    newsId=postId,\n",
    "                    title=title,\n",
    "                    excerpt=txt,\n",
    "                    href=link,\n",
    "                    count=count,\n",
    "                    rcm=rcm,\n",
    "                    postDate=postDate,\n",
    "                    html=html\n",
    "                )\n",
    "                obj.save()\n",
    "\n",
    "            \n",
    "            bar.update(k)\n",
    "            k += 1\n",
    "        \n",
    "\n"
   ]
  },
  {
   "cell_type": "code",
   "execution_count": 21,
   "id": "b47078ec",
   "metadata": {},
   "outputs": [
    {
     "data": {
      "text/plain": [
       "['20220205',\n",
       " '20220206',\n",
       " '20220207',\n",
       " '20220208',\n",
       " '20220209',\n",
       " '20220210',\n",
       " '20220211']"
      ]
     },
     "execution_count": 21,
     "metadata": {},
     "output_type": "execute_result"
    }
   ],
   "source": []
  },
  {
   "cell_type": "code",
   "execution_count": 18,
   "id": "ed85e1ff",
   "metadata": {},
   "outputs": [
    {
     "name": "stdout",
     "output_type": "stream",
     "text": [
      "2017-02-05 00:00:00\n"
     ]
    }
   ],
   "source": [
    "print(datetime.datetime.strptime('20170205', '%Y%m%d'))"
   ]
  }
 ],
 "metadata": {
  "kernelspec": {
   "display_name": "Django Shell-Plus",
   "language": "python",
   "name": "django_extensions"
  },
  "language_info": {
   "codemirror_mode": {
    "name": "ipython",
    "version": 3
   },
   "file_extension": ".py",
   "mimetype": "text/x-python",
   "name": "python",
   "nbconvert_exporter": "python",
   "pygments_lexer": "ipython3",
   "version": "3.8.10"
  }
 },
 "nbformat": 4,
 "nbformat_minor": 5
}
