{
 "cells": [
  {
   "cell_type": "code",
   "execution_count": 19,
   "id": "0c8866c6",
   "metadata": {},
   "outputs": [
    {
     "data": {
      "text/plain": [
       "'Ural BT-DB02+'"
      ]
     },
     "execution_count": 19,
     "metadata": {},
     "output_type": "execute_result"
    }
   ],
   "source": [
    "import os\n",
    "os.environ['DJANGO_ALLOW_ASYNC_UNSAFE'] = \"true\"\n",
    "from fedor.models import Fedor\n",
    "\n",
    "all_prods = Fedor.objects.all()\n",
    "first = all_prods.first()\n",
    "first.title"
   ]
  },
  {
   "cell_type": "code",
   "execution_count": 25,
   "id": "c1c5b42e",
   "metadata": {},
   "outputs": [],
   "source": [
    "import hashlib\n",
    "\n",
    "def identify(string):\n",
    "    return str(hash(string))[1:13]\n",
    "ids = []\n",
    "for prod in all_prods:\n",
    "    ids.append(identify(prod.title))\n",
    "\n",
    "seen = set()\n",
    "uniq = []\n",
    "dupes = []\n",
    "for x in ids:\n",
    "    if x not in seen:\n",
    "        uniq.append(x)\n",
    "        seen.add(x)\n",
    "    else:\n",
    "        dupes.append(x)\n"
   ]
  },
  {
   "cell_type": "code",
   "execution_count": 26,
   "id": "1f6ab72b",
   "metadata": {},
   "outputs": [
    {
     "name": "stdout",
     "output_type": "stream",
     "text": [
      "1481 1478 1478\n",
      "['233358264522', '906300674439', '872571407281']\n"
     ]
    }
   ],
   "source": [
    "print(len(ids), len(seen), len(uniq))\n",
    "print(dupes)"
   ]
  },
  {
   "cell_type": "code",
   "execution_count": null,
   "id": "231441f4",
   "metadata": {},
   "outputs": [],
   "source": [
    "p = all_prods.filter(id)"
   ]
  }
 ],
 "metadata": {
  "kernelspec": {
   "display_name": "Django Shell-Plus",
   "language": "python",
   "name": "django_extensions"
  },
  "language_info": {
   "codemirror_mode": {
    "name": "ipython",
    "version": 3
   },
   "file_extension": ".py",
   "mimetype": "text/x-python",
   "name": "python",
   "nbconvert_exporter": "python",
   "pygments_lexer": "ipython3",
   "version": "3.8.10"
  }
 },
 "nbformat": 4,
 "nbformat_minor": 5
}
